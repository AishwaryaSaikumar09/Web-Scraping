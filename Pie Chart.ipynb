pip install selenium 

from selenium import webdriver
import time
import urllib.request
import os
from selenium.webdriver.common.keys import Keys

browser = webdriver.Chrome() #incase you are chrome
browser.get("https://www.google.com/")
search = browser.find_element_by_name('q')
search.send_keys("Pie charts",Keys.ENTER)
elem = browser.find_element_by_link_text('Images')
elem.get_attribute('href')
elem.click()
value = 0
for i in range(20):
   browser.execute_script("scrollBy("+ str(value) +",+1000);")
   value += 1000
   time.sleep(3)
elem1 = browser.find_element_by_id('islmp')
sub = elem1.find_elements_by_tag_name("img")
try:
    os.mkdir('/Users/Aishu/Desktop/Gauiguin project/Web scraping imgs/Pie chart')
except FileExistsError:
    pass
count = 0
for i in sub:
    src = i.get_attribute('src')
    try:
        if src != None:
            src  = str(src)
            print(src)
            count+=1
            urllib.request.urlretrieve(src, os.path.join('/Users/Aishu/Desktop/Gauiguin project/Web scraping imgs/Pie chart','image'+str(count)+'.jpg'))
        else:
            raise TypeError
    except TypeError:
        print('fail')
